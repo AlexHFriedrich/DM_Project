{
 "cells": [
  {
   "cell_type": "code",
   "execution_count": 11,
   "id": "initial_id",
   "metadata": {
    "collapsed": true,
    "ExecuteTime": {
     "end_time": "2024-01-26T20:10:10.140800500Z",
     "start_time": "2024-01-26T20:10:10.108559500Z"
    }
   },
   "outputs": [],
   "source": [
    "import time\n",
    "\n",
    "import torch\n",
    "from tqdm import tqdm\n",
    "import pandas as pd\n",
    "from Read_Data import load_data_list\n",
    "from metrics import compute_kendall_tau, plot_approximation_ratio\n",
    "from model import GIN\n",
    "import numpy as np"
   ]
  },
  {
   "cell_type": "code",
   "execution_count": 12,
   "outputs": [
    {
     "name": "stdout",
     "output_type": "stream",
     "text": [
      "Random seed set as 42\n"
     ]
    }
   ],
   "source": [
    "device = torch.device('cuda' if torch.cuda.is_available() else 'cpu')\n",
    "\n",
    "def set_seed(seed: int = 42) -> None:\n",
    "    np.random.seed(seed)\n",
    "    torch.manual_seed(seed)\n",
    "    torch.cuda.manual_seed(seed)\n",
    "    # When running on the CuDNN backend, two further options must be set\n",
    "    torch.backends.cudnn.deterministic = True\n",
    "    torch.backends.cudnn.benchmark = False\n",
    "    print(f\"Random seed set as {seed}\")\n",
    "\n",
    "set_seed()"
   ],
   "metadata": {
    "collapsed": false,
    "ExecuteTime": {
     "end_time": "2024-01-26T20:10:10.141800500Z",
     "start_time": "2024-01-26T20:10:10.130242400Z"
    }
   },
   "id": "497296ed2a8b8e24"
  },
  {
   "cell_type": "code",
   "execution_count": 17,
   "outputs": [],
   "source": [
    "df = pd.DataFrame(columns=['Network', 'Measure', 'Final Train Error', 'Min Test Error', 'Kendalls Tau',\n",
    "                           'Best Config', 'Running Time Networkit', 'Running Time NN', 'Time Difference'])\n",
    "\n",
    "configs = {'32_3': (32, 3), '32_4': (32, 4), '32_5': (32, 5),\n",
    "           '64_3': (64, 3), '64_4': (64, 4), '64_5': (64, 5),\n",
    "           '128_3': (128, 3), '128_4': (128, 4), '128_5': (128, 5),\n",
    "           '256_3': (256, 3), '256_4': (256, 4), '256_5': (256, 5)}\n",
    "\n",
    "data_sets = load_data_list()\n",
    "\n",
    "# default value\n",
    "train_mask = torch.zeros(1000, dtype=torch.bool)"
   ],
   "metadata": {
    "collapsed": false,
    "ExecuteTime": {
     "end_time": "2024-01-26T20:17:35.434168700Z",
     "start_time": "2024-01-26T20:17:35.304053200Z"
    }
   },
   "id": "55e276ee043eea51"
  },
  {
   "cell_type": "code",
   "execution_count": 19,
   "outputs": [
    {
     "name": "stderr",
     "output_type": "stream",
     "text": [
      "  0%|          | 0/2 [00:00<?, ?it/s]\n",
      "  0%|          | 0/3 [00:00<?, ?it/s]\u001B[A"
     ]
    },
    {
     "name": "stdout",
     "output_type": "stream",
     "text": [
      "\n",
      "Early stopping at epoch:  300\n",
      "\n",
      "Early stopping at epoch:  460\n",
      "\n",
      "Early stopping at epoch:  480\n",
      "\n",
      "Early stopping at epoch:  740\n",
      "\n",
      "Early stopping at epoch:  380\n",
      "\n",
      "Early stopping at epoch:  320\n",
      "\n",
      "Early stopping at epoch:  360\n",
      "\n",
      "Early stopping at epoch:  480\n",
      "\n",
      "Early stopping at epoch:  440\n",
      "\n",
      "Early stopping at epoch:  300\n",
      "\n",
      "Early stopping at epoch:  580\n"
     ]
    },
    {
     "name": "stderr",
     "output_type": "stream",
     "text": [
      "\n",
      " 33%|███▎      | 1/3 [03:53<07:47, 233.74s/it]\u001B[A"
     ]
    },
    {
     "name": "stdout",
     "output_type": "stream",
     "text": [
      "\n",
      "Early stopping at epoch:  260\n",
      "\n",
      "Early stopping at epoch:  140\n",
      "\n",
      "Early stopping at epoch:  380\n",
      "\n",
      "Early stopping at epoch:  300\n",
      "\n",
      "Early stopping at epoch:  460\n",
      "\n",
      "Early stopping at epoch:  420\n",
      "\n",
      "Early stopping at epoch:  200\n",
      "\n",
      "Early stopping at epoch:  680\n",
      "\n",
      "Early stopping at epoch:  500\n",
      "\n",
      "Early stopping at epoch:  100\n",
      "\n",
      "Early stopping at epoch:  300\n",
      "\n",
      "Early stopping at epoch:  240\n"
     ]
    },
    {
     "name": "stderr",
     "output_type": "stream",
     "text": [
      "\n",
      " 67%|██████▋   | 2/3 [06:20<03:02, 182.30s/it]\u001B[A"
     ]
    },
    {
     "name": "stdout",
     "output_type": "stream",
     "text": [
      "\n",
      "Early stopping at epoch:  140\n",
      "\n",
      "Early stopping at epoch:  100\n",
      "\n",
      "Early stopping at epoch:  220\n",
      "\n",
      "Early stopping at epoch:  200\n",
      "\n",
      "Early stopping at epoch:  180\n",
      "\n",
      "Early stopping at epoch:  200\n",
      "\n",
      "Early stopping at epoch:  180\n",
      "\n",
      "Early stopping at epoch:  100\n",
      "\n",
      "Early stopping at epoch:  160\n",
      "\n",
      "Early stopping at epoch:  80\n",
      "\n",
      "Early stopping at epoch:  440\n",
      "\n",
      "Early stopping at epoch:  240\n"
     ]
    },
    {
     "name": "stderr",
     "output_type": "stream",
     "text": [
      "\n",
      "100%|██████████| 3/3 [07:55<00:00, 158.62s/it]\u001B[A\n",
      " 50%|█████     | 1/2 [07:55<07:55, 475.87s/it]\n",
      "  0%|          | 0/3 [00:00<?, ?it/s]\u001B[A"
     ]
    },
    {
     "name": "stdout",
     "output_type": "stream",
     "text": [
      "\n",
      "Early stopping at epoch:  220\n",
      "\n",
      "Early stopping at epoch:  340\n",
      "\n",
      "Early stopping at epoch:  280\n",
      "\n",
      "Early stopping at epoch:  180\n",
      "\n",
      "Early stopping at epoch:  360\n",
      "\n",
      "Early stopping at epoch:  220\n",
      "\n",
      "Early stopping at epoch:  120\n",
      "\n",
      "Early stopping at epoch:  780\n",
      "\n",
      "Early stopping at epoch:  280\n",
      "\n",
      "Early stopping at epoch:  240\n"
     ]
    },
    {
     "name": "stderr",
     "output_type": "stream",
     "text": [
      "\n",
      " 33%|███▎      | 1/3 [02:51<05:43, 171.67s/it]\u001B[A"
     ]
    },
    {
     "name": "stdout",
     "output_type": "stream",
     "text": [
      "\n",
      "Early stopping at epoch:  480\n",
      "\n",
      "Early stopping at epoch:  320\n",
      "\n",
      "Early stopping at epoch:  200\n",
      "\n",
      "Early stopping at epoch:  440\n",
      "\n",
      "Early stopping at epoch:  920\n",
      "\n",
      "Early stopping at epoch:  720\n",
      "\n",
      "Early stopping at epoch:  480\n",
      "\n",
      "Early stopping at epoch:  640\n"
     ]
    },
    {
     "name": "stderr",
     "output_type": "stream",
     "text": [
      "\n",
      " 67%|██████▋   | 2/3 [07:03<03:39, 219.10s/it]\u001B[A"
     ]
    },
    {
     "name": "stdout",
     "output_type": "stream",
     "text": [
      "\n",
      "Early stopping at epoch:  140\n",
      "\n",
      "Early stopping at epoch:  280\n",
      "\n",
      "Early stopping at epoch:  500\n",
      "\n",
      "Early stopping at epoch:  180\n",
      "\n",
      "Early stopping at epoch:  220\n",
      "\n",
      "Early stopping at epoch:  220\n",
      "\n",
      "Early stopping at epoch:  940\n",
      "\n",
      "Early stopping at epoch:  180\n",
      "\n",
      "Early stopping at epoch:  180\n",
      "\n",
      "Early stopping at epoch:  380\n"
     ]
    },
    {
     "name": "stderr",
     "output_type": "stream",
     "text": [
      "\n",
      "100%|██████████| 3/3 [09:33<00:00, 191.04s/it]\u001B[A\n",
      "100%|██████████| 2/2 [17:28<00:00, 524.49s/it]"
     ]
    },
    {
     "name": "stdout",
     "output_type": "stream",
     "text": [
      "                     Network                 Measure Final Train Error Min Test Error  Kendalls Tau Best Config  Running Time Networkit  Running Time NN  Time Difference\n",
      "0  Adolescent health network                  Degree       0.005906477    0.006955558        0.9480       256_5                0.000130         0.032892        -0.032762\n",
      "1  Adolescent health network  Eigenvector Centrality       0.004505247   0.0037288377        0.2294        64_4                0.006794         0.008933        -0.002139\n",
      "2  Adolescent health network                PageRank       0.033728242     0.03123384        0.7131        32_5                0.004139         0.009685        -0.005546\n",
      "3              Yeast network                  Degree      0.0030861087   0.0030860181        0.7496       256_3                0.000354         0.012296        -0.011942\n",
      "4              Yeast network  Eigenvector Centrality      0.0012718391   0.0021006938        0.5622        64_4                0.025737         0.006211         0.019526\n",
      "5              Yeast network                PageRank      0.0025181258   0.0034331775        0.8343       256_3                0.002540         0.012054        -0.009514\n"
     ]
    },
    {
     "name": "stderr",
     "output_type": "stream",
     "text": [
      "\n"
     ]
    }
   ],
   "source": [
    "for network in tqdm(data_sets):\n",
    "    net = network\n",
    "    network = data_sets[net][0]\n",
    "    running_times_network_it = data_sets[net][1]\n",
    "    running_times_nn = {}\n",
    "\n",
    "    for dataset in tqdm(network):\n",
    "        measure = dataset\n",
    "        dataset = network[measure]\n",
    "        opt_config_dict = {\"min_test_error\": 100000, \"best_config\": None, \"min_time\": 100000, \"final_out\": None,\n",
    "                           \"final_train_error\": None}\n",
    "\n",
    "        for config in configs:\n",
    "\n",
    "            gin = GIN(*configs[config]).to(torch.float32)\n",
    "            gin.to(device)\n",
    "            '''for name, param in gin.named_parameters():\n",
    "                print(f'{name}: {param.device}')'''\n",
    "\n",
    "            data, train_mask = dataset[0].to(device), dataset[1].to(device)\n",
    "\n",
    "            '''print(data.x.device)\n",
    "            print(data.edge_index.device)\n",
    "            print(data.y.device)'''\n",
    "\n",
    "            criterion = torch.nn.L1Loss()\n",
    "\n",
    "            lr = 0.001\n",
    "            num_epochs = 1000\n",
    "            temp_loss = 100000\n",
    "            optimizer = torch.optim.Adam(gin.parameters(), lr=lr, weight_decay=5e-4)\n",
    "            gin.train()\n",
    "\n",
    "            for epoch in range(num_epochs):\n",
    "\n",
    "                optimizer.zero_grad()\n",
    "                out = gin(x=data.x, edge_index=data.edge_index)\n",
    "\n",
    "                loss = criterion(out.view(-1)[train_mask], data.y[train_mask].view(-1))\n",
    "\n",
    "                # early stopping if the loss does not decrease by more than 1% for 20 epochs, very simplified version of the early stopping criterion\n",
    "                # introduced in https://arxiv.org/abs/1703.09580, by approximating the loss gradient, to implement early stopping without validation set\n",
    "                if epoch % 20 == 0 and epoch > 50:\n",
    "                    if abs(temp_loss - loss) > abs(temp_loss) / 100:\n",
    "                        temp_loss = loss\n",
    "\n",
    "                    else:\n",
    "                        # print(\"\\nEarly stopping at epoch: \", epoch)\n",
    "                        break\n",
    "\n",
    "                loss.backward()\n",
    "                optimizer.step()\n",
    "\n",
    "            gin.eval()\n",
    "\n",
    "            with torch.no_grad():\n",
    "                start = time.perf_counter()\n",
    "                out = gin(x=data.x, edge_index=data.edge_index)\n",
    "                end = time.perf_counter()\n",
    "\n",
    "            train_error = criterion(out.view(-1)[train_mask], data.y[train_mask].view(-1))\n",
    "\n",
    "            test_error = criterion(out.view(-1)[~train_mask], data.y.view(-1)[~train_mask])\n",
    "            test_error = test_error.cpu()\n",
    "            train_error = train_error.cpu()\n",
    "            if test_error.detach().numpy() < opt_config_dict[\"min_test_error\"]:\n",
    "                opt_config_dict[\"min_test_error\"] = test_error.detach().numpy()\n",
    "                opt_config_dict[\"best_config\"] = config\n",
    "                opt_config_dict[\"final_out\"] = out.view(-1).detach()\n",
    "                opt_config_dict[\"final_train_error\"] = train_error.detach().numpy()\n",
    "                opt_config_dict[\"min_time\"] = end - start\n",
    "\n",
    "        plot_approximation_ratio(dataset[0], opt_config_dict[\"final_out\"], net, measure)\n",
    "        running_times_nn[measure] = opt_config_dict[\"min_time\"]\n",
    "\n",
    "        # update the dataframe\n",
    "        df.loc[len(df)] = {'Network': net, 'Measure': measure,\n",
    "                           'Final Train Error': opt_config_dict[\"final_train_error\"],\n",
    "                           'Min Test Error': opt_config_dict[\"min_test_error\"],\n",
    "                           'Kendalls Tau': compute_kendall_tau(dataset[0].cpu(), opt_config_dict[\"final_out\"].cpu(),\n",
    "                                                               ~train_mask.cpu()),\n",
    "                           'Best Config': opt_config_dict[\"best_config\"],\n",
    "                           'Running Time Networkit': running_times_network_it[measure],\n",
    "                           'Running Time NN': running_times_nn[measure],\n",
    "                           'Time Difference': running_times_network_it[measure] - running_times_nn[measure]}\n",
    "\n",
    "\n",
    "# rounding the values to improve readability\n",
    "df[['Running Time Networkit', 'Running Time NN', 'Time Difference']] = \\\n",
    "    df[['Running Time Networkit', 'Running Time NN', 'Time Difference']].round(6)\n",
    "df[['Final Train Error', 'Min Test Error', 'Kendalls Tau']] = \\\n",
    "    df[['Final Train Error', 'Min Test Error', 'Kendalls Tau']].round(4)\n",
    "\n",
    "df.to_csv('results.csv', index=False)\n",
    "print(df.to_string())\n"
   ],
   "metadata": {
    "collapsed": false,
    "ExecuteTime": {
     "end_time": "2024-01-26T20:35:30.598650400Z",
     "start_time": "2024-01-26T20:18:01.571729800Z"
    }
   },
   "id": "4060e46945e07d8e"
  }
 ],
 "metadata": {
  "kernelspec": {
   "display_name": "Python 3",
   "language": "python",
   "name": "python3"
  },
  "language_info": {
   "codemirror_mode": {
    "name": "ipython",
    "version": 2
   },
   "file_extension": ".py",
   "mimetype": "text/x-python",
   "name": "python",
   "nbconvert_exporter": "python",
   "pygments_lexer": "ipython2",
   "version": "2.7.6"
  }
 },
 "nbformat": 4,
 "nbformat_minor": 5
}
