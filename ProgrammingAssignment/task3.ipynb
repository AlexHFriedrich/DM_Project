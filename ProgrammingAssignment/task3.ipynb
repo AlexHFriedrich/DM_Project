{
 "cells": [
  {
   "cell_type": "code",
   "execution_count": 506,
   "metadata": {},
   "outputs": [],
   "source": [
    "import torch\n",
    "import torch.nn as nn\n",
    "import torch.optim as optim\n",
    "from torch_geometric.data import Data\n",
    "from torch_geometric.loader import DataLoader\n",
    "from torch_geometric.nn import GCNConv, global_add_pool\n",
    "import torch.nn.functional as F\n",
    "import networkx as nx\n",
    "import numpy as np\n",
    "from torch_geometric.utils.convert import to_networkx, from_networkx\n",
    "from sklearn.preprocessing import MinMaxScaler\n",
    "from sklearn.model_selection import train_test_split"
   ]
  },
  {
   "cell_type": "code",
   "execution_count": 507,
   "metadata": {},
   "outputs": [],
   "source": [
    "G = nx.read_adjlist('./data/moreno_propro/out.moreno_propro_propro', delimiter=' ', nodetype=int, comments='%')\n",
    "\n",
    "degree_centrality = nx.degree_centrality(G)\n",
    "\n",
    "G_networkx = nx.Graph()\n",
    "G_networkx.add_edges_from(G.edges)\n",
    "\n",
    "for node in G.nodes:\n",
    "    G_networkx.nodes[node]['x'] = torch.tensor(node, dtype=torch.float32)\n",
    "    G_networkx.nodes[node]['y'] = degree_centrality[node]\n",
    "\n",
    "# Extract node indices and corresponding degree centrality values\n",
    "x, y = zip(*[(node, degree_centrality[node]) for node in G.nodes])\n",
    "\n",
    "# Convert x and y to torch tensors\n",
    "x = torch.tensor(list(x), dtype=torch.float32)\n",
    "y = torch.tensor(list(y), dtype=torch.float32)\n",
    "\n",
    "# Reshape x to a column vector\n",
    "x = x.view(-1, 1)\n",
    "\n",
    "# Convert x to a NumPy array before using MinMaxScaler\n",
    "x_array = x.numpy().reshape(-1, 1)\n",
    "\n",
    "# Use MinMaxScaler to normalize x to the range [-1, 1]\n",
    "scaler = MinMaxScaler(feature_range=(-1, 1))\n",
    "x_normalized = scaler.fit_transform(x_array)\n",
    "\n",
    "# Convert the normalized NumPy array back to a PyTorch tensor\n",
    "x_normalized = torch.from_numpy(x_normalized).view(-1, 1)"
   ]
  },
  {
   "cell_type": "code",
   "execution_count": 508,
   "metadata": {},
   "outputs": [],
   "source": [
    "networx_data_torch = from_networkx(G_networkx)"
   ]
  },
  {
   "cell_type": "code",
   "execution_count": 509,
   "metadata": {},
   "outputs": [],
   "source": [
    "train_data = Data(x=x_normalized, edge_index=networx_data_torch.edge_index, y=y)"
   ]
  },
  {
   "cell_type": "code",
   "execution_count": 510,
   "metadata": {},
   "outputs": [
    {
     "data": {
      "text/plain": [
       "Data(x=[1870, 1], edge_index=[2, 4480], y=[1870])"
      ]
     },
     "execution_count": 510,
     "metadata": {},
     "output_type": "execute_result"
    }
   ],
   "source": [
    "train_data"
   ]
  },
  {
   "cell_type": "code",
   "execution_count": 511,
   "metadata": {},
   "outputs": [
    {
     "data": {
      "text/plain": [
       "Data(x=[1870, 1], edge_index=[2, 4480], y=[1870])"
      ]
     },
     "execution_count": 511,
     "metadata": {},
     "output_type": "execute_result"
    }
   ],
   "source": [
    "train_data"
   ]
  },
  {
   "cell_type": "code",
   "execution_count": 512,
   "metadata": {},
   "outputs": [
    {
     "data": {
      "text/plain": [
       "array([1737,  851, 1177,  364, 1791,   26,  134,  536, 1028,  967,   79,\n",
       "       1576,  303, 1794, 1336, 1264,  305,  163, 1488,  830,   47, 1645,\n",
       "       1628,  130,  362, 1719,  977,  625,  466,  995,  743, 1554, 1129,\n",
       "       1110, 1856, 1144, 1039,  413, 1300,  776,  533, 1226, 1430,  382,\n",
       "        739,  595,  376,   81, 1145,  318,  715,   11,  581, 1826,  842,\n",
       "        794,  951, 1373, 1549, 1063,  532, 1627, 1693, 1516,  545, 1213,\n",
       "        943, 1790,  963, 1193,  541,  488,  179, 1581,  843,  901, 1267,\n",
       "        369,  802,  958, 1726,  213, 1820, 1722, 1477, 1769, 1298, 1459,\n",
       "         40, 1475,  652,  490,   56,  234, 1385, 1742,  107,  113, 1103,\n",
       "       1777,  513,  667, 1705, 1136, 1486, 1227,  195, 1841, 1189,  884,\n",
       "        874,  502,  225,  849,  143,   24,  488,  637,  812,  679, 1825,\n",
       "        778, 1854, 1726, 1118, 1850,  960,  783,  729,  519, 1772, 1316,\n",
       "       1421,  669, 1860, 1611,  702,  648,  573,  235, 1338,  204,  997,\n",
       "        111, 1529,  757, 1298, 1066,  698,  148,  649,  109,  271, 1424,\n",
       "       1714,  335, 1718, 1819,  914, 1750,  557,  536,  646, 1412,  799,\n",
       "       1848,  792, 1375, 1053, 1068,  788,  880,  365,  915, 1634,  857,\n",
       "         51,   67, 1327, 1205,  155,  699,   18, 1299,  549, 1748,  219])"
      ]
     },
     "execution_count": 512,
     "metadata": {},
     "output_type": "execute_result"
    }
   ],
   "source": [
    "random_integers = np.random.randint(0, len(y), size=int((len(y) / 10)))\n",
    "random_integers"
   ]
  },
  {
   "cell_type": "code",
   "execution_count": 513,
   "metadata": {},
   "outputs": [],
   "source": [
    "train_mask = torch.full_like(y, True, dtype=bool)\n",
    "train_mask[random_integers] = False"
   ]
  },
  {
   "cell_type": "code",
   "execution_count": 514,
   "metadata": {},
   "outputs": [],
   "source": [
    "train_data.train_mask = train_mask"
   ]
  },
  {
   "cell_type": "code",
   "execution_count": 515,
   "metadata": {},
   "outputs": [
    {
     "data": {
      "text/plain": [
       "Data(x=[1870, 1], edge_index=[2, 4480], y=[1870], train_mask=[1870])"
      ]
     },
     "execution_count": 515,
     "metadata": {},
     "output_type": "execute_result"
    }
   ],
   "source": [
    "train_data"
   ]
  },
  {
   "cell_type": "code",
   "execution_count": 516,
   "metadata": {},
   "outputs": [],
   "source": [
    "class GNN(nn.Module):\n",
    "    def __init__(self, in_channels, hidden_channels, out_channels):\n",
    "        super(GNN, self).__init__()\n",
    "        self.conv1 = GCNConv(in_channels, hidden_channels)\n",
    "        self.conv2 = GCNConv(hidden_channels, out_channels)\n",
    "\n",
    "    def forward(self, x, edge_index):\n",
    "        x = self.conv1(x, edge_index)\n",
    "        x = torch.relu(x)\n",
    "        x = self.conv2(x, edge_index)\n",
    "        return x\n",
    "\n",
    "model = GNN(in_channels=1, hidden_channels=64, out_channels=1)\n",
    "\n",
    "criterion = nn.L1Loss()\n",
    "optimizer = optim.Adam(model.parameters(), lr=0.01)\n",
    "\n",
    "train_loader = DataLoader([train_data], shuffle=True)"
   ]
  },
  {
   "cell_type": "code",
   "execution_count": 517,
   "metadata": {},
   "outputs": [
    {
     "name": "stdout",
     "output_type": "stream",
     "text": [
      "Epoch 1/50, Loss: 0.04112575575709343\n",
      "Epoch 2/50, Loss: 0.0269099622964859\n",
      "Epoch 3/50, Loss: 0.026830732822418213\n",
      "Epoch 4/50, Loss: 0.00981150846928358\n",
      "Epoch 5/50, Loss: 0.019987886771559715\n",
      "Epoch 6/50, Loss: 0.021723516285419464\n",
      "Epoch 7/50, Loss: 0.013393673114478588\n",
      "Epoch 8/50, Loss: 0.007039885502308607\n",
      "Epoch 9/50, Loss: 0.013396927155554295\n",
      "Epoch 10/50, Loss: 0.011961124837398529\n",
      "Epoch 11/50, Loss: 0.0057718465104699135\n",
      "Epoch 12/50, Loss: 0.010709086433053017\n",
      "Epoch 13/50, Loss: 0.011011858470737934\n",
      "Epoch 14/50, Loss: 0.009580664336681366\n",
      "Epoch 15/50, Loss: 0.011551003903150558\n",
      "Epoch 16/50, Loss: 0.0056074392050504684\n",
      "Epoch 17/50, Loss: 0.009979224763810635\n",
      "Epoch 18/50, Loss: 0.015644537284970284\n",
      "Epoch 19/50, Loss: 0.011808105744421482\n",
      "Epoch 20/50, Loss: 0.006336227525025606\n",
      "Epoch 21/50, Loss: 0.010446101427078247\n",
      "Epoch 22/50, Loss: 0.01075817085802555\n"
     ]
    },
    {
     "name": "stdout",
     "output_type": "stream",
     "text": [
      "Epoch 23/50, Loss: 0.009850071743130684\n",
      "Epoch 24/50, Loss: 0.009846709668636322\n",
      "Epoch 25/50, Loss: 0.008027850650250912\n",
      "Epoch 26/50, Loss: 0.003512445604428649\n",
      "Epoch 27/50, Loss: 0.007701144088059664\n",
      "Epoch 28/50, Loss: 0.011049462482333183\n",
      "Epoch 29/50, Loss: 0.009606104344129562\n",
      "Epoch 30/50, Loss: 0.0057497466914355755\n",
      "Epoch 31/50, Loss: 0.004785141907632351\n",
      "Epoch 32/50, Loss: 0.007561970967799425\n",
      "Epoch 33/50, Loss: 0.008266332559287548\n",
      "Epoch 34/50, Loss: 0.00541770551353693\n",
      "Epoch 35/50, Loss: 0.004639596212655306\n",
      "Epoch 36/50, Loss: 0.004956469871103764\n",
      "Epoch 37/50, Loss: 0.007306922227144241\n",
      "Epoch 38/50, Loss: 0.00630228454247117\n",
      "Epoch 39/50, Loss: 0.003182699205353856\n",
      "Epoch 40/50, Loss: 0.004834024701267481\n",
      "Epoch 41/50, Loss: 0.0068651167675852776\n",
      "Epoch 42/50, Loss: 0.007148585747927427\n",
      "Epoch 43/50, Loss: 0.003720113541930914\n",
      "Epoch 44/50, Loss: 0.0034609430003911257\n",
      "Epoch 45/50, Loss: 0.005864565726369619\n",
      "Epoch 46/50, Loss: 0.004575170110911131\n",
      "Epoch 47/50, Loss: 0.002205920871347189\n",
      "Epoch 48/50, Loss: 0.004950569011271\n",
      "Epoch 49/50, Loss: 0.007089767139405012\n",
      "Epoch 50/50, Loss: 0.006236099638044834\n",
      "Training finished.\n"
     ]
    }
   ],
   "source": [
    "num_epochs = 50\n",
    "for epoch in range(num_epochs):\n",
    "    model.train()\n",
    "    running_loss = 0.0\n",
    "\n",
    "    optimizer.zero_grad()\n",
    "    out = model(train_data.x, train_data.edge_index)\n",
    "    loss = criterion(out.view(-1)[train_data.train_mask], train_data.y[train_data.train_mask])\n",
    "    loss.backward()\n",
    "    optimizer.step()\n",
    "\n",
    "    running_loss += loss.item()\n",
    "\n",
    "    print(f'Epoch {epoch + 1}/{num_epochs}, Loss: {running_loss / len(train_loader)}')\n",
    "\n",
    "print('Training finished.')"
   ]
  },
  {
   "cell_type": "code",
   "execution_count": 518,
   "metadata": {},
   "outputs": [
    {
     "name": "stdout",
     "output_type": "stream",
     "text": [
      "Test Loss: 0.003200588980689645\n"
     ]
    }
   ],
   "source": [
    "# Evaluate the trained model on the test set\n",
    "model.eval()\n",
    "with torch.no_grad():\n",
    "    test_out = model(train_data.x.view(-1, 1), train_data.edge_index)\n",
    "    test_loss = criterion(test_out.view(-1), train_data.y)\n",
    "    print(f'Test Loss: {test_loss.item()}')\n",
    "\n",
    "    "
   ]
  },
  {
   "cell_type": "code",
   "execution_count": 523,
   "metadata": {},
   "outputs": [
    {
     "data": {
      "text/plain": [
       "tensor([0.0032, 0.0107, 0.0011,  ..., 0.0005, 0.0011, 0.0011])"
      ]
     },
     "execution_count": 523,
     "metadata": {},
     "output_type": "execute_result"
    }
   ],
   "source": [
    "train_data.y[train_data.train_mask]"
   ]
  }
 ],
 "metadata": {
  "kernelspec": {
   "display_name": "FDA",
   "language": "python",
   "name": "python3"
  },
  "language_info": {
   "codemirror_mode": {
    "name": "ipython",
    "version": 3
   },
   "file_extension": ".py",
   "mimetype": "text/x-python",
   "name": "python",
   "nbconvert_exporter": "python",
   "pygments_lexer": "ipython3",
   "version": "3.9.16"
  }
 },
 "nbformat": 4,
 "nbformat_minor": 2
}
